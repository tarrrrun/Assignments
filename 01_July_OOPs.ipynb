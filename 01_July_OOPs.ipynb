{
 "cells": [
  {
   "cell_type": "markdown",
   "id": "f171d475",
   "metadata": {},
   "source": [
    "## Assignment OOPS"
   ]
  },
  {
   "cell_type": "markdown",
   "id": "5b9e51d8",
   "metadata": {},
   "source": [
    "# 1. What is the primary goal of Object-Oriented Programming (OOP)?"
   ]
  },
  {
   "cell_type": "markdown",
   "id": "ed8d4c0e",
   "metadata": {},
   "source": [
    "The primary goal of object-oriented programming is to design a software mirroring real-world entities so that it becomes easy to maintain, reuse and enhance its scalability. An object-Oriented programming revolves around the object which belongs to a particular class sharing same attributes. In simple words, all objects belonging to a same class share same properties called attributes thus they become more easy to access because these attributes give the program a structured shape. For example - In a class of vehicle, all of its objects contain vehicles but their subclass define number of wheels in them such as 2-wheeler or 4-wheeler.\n"
   ]
  },
  {
   "cell_type": "markdown",
   "id": "4664024e",
   "metadata": {},
   "source": [
    "OOP's provide various properties to the code such as:-"
   ]
  },
  {
   "cell_type": "markdown",
   "id": "41b32ae7",
   "metadata": {},
   "source": [
    "    i.)Encapsulation - It is the bundling of all attributes and methods of an object into single unit."
   ]
  },
  {
   "cell_type": "markdown",
   "id": "560fde55",
   "metadata": {},
   "source": [
    "    ii.)Inheritence - It is the transfer of properties/attributes from a parent class to a child class."
   ]
  },
  {
   "cell_type": "markdown",
   "id": "bae94f64",
   "metadata": {},
   "source": [
    "    iii.)Polymorphism - Polymorphism enables treating diverse objects as one type, enhancing code simplicity and\n",
    "                        flexibility through interchangeability."
   ]
  },
  {
   "cell_type": "markdown",
   "id": "ccb6410e",
   "metadata": {},
   "source": [
    "    iv.)Abstraction - Abstraction simplifies complex systems, letting developers focus on essential details and\n",
    "                      ignore unnecessary complexities in code."
   ]
  },
  {
   "cell_type": "markdown",
   "id": "ba4cff5c",
   "metadata": {},
   "source": [
    "# 2. What is an object in Python?"
   ]
  },
  {
   "cell_type": "markdown",
   "id": "ca5039b4",
   "metadata": {},
   "source": [
    "In python everything is an object, but in context of OOP's an object is an instance of a class sharing same attributes and properties. It encapsulates data and methods to operate on that data. Objects of same classes share same behaviour/properties. For ex - An object of vehicle class will always contain wheels but the number of wheels are defined by their belongingness to the subclass such as 2-wheeler or 4-wheeler. For example :-"
   ]
  },
  {
   "cell_type": "code",
   "execution_count": 12,
   "id": "359589f0",
   "metadata": {},
   "outputs": [],
   "source": [
    "class car:\n",
    "    def __init__(self,make,model):\n",
    "        self.make=make\n",
    "        self.model=model\n"
   ]
  },
  {
   "cell_type": "code",
   "execution_count": 13,
   "id": "616e722a",
   "metadata": {},
   "outputs": [],
   "source": [
    "car1 = car('maruti','alto')"
   ]
  },
  {
   "cell_type": "code",
   "execution_count": 15,
   "id": "9270dd1a",
   "metadata": {},
   "outputs": [
    {
     "data": {
      "text/plain": [
       "'maruti'"
      ]
     },
     "execution_count": 15,
     "metadata": {},
     "output_type": "execute_result"
    }
   ],
   "source": [
    "car1.make"
   ]
  },
  {
   "cell_type": "code",
   "execution_count": 16,
   "id": "db23bccb",
   "metadata": {
    "scrolled": true
   },
   "outputs": [
    {
     "data": {
      "text/plain": [
       "'alto'"
      ]
     },
     "execution_count": 16,
     "metadata": {},
     "output_type": "execute_result"
    }
   ],
   "source": [
    "car1.model"
   ]
  },
  {
   "cell_type": "markdown",
   "id": "858b149a",
   "metadata": {},
   "source": [
    "In this example, an object of class 'car' is made which has 2 attributes namely 'make' and 'model' and\n",
    "car1 is the object name."
   ]
  },
  {
   "cell_type": "markdown",
   "id": "5f820067",
   "metadata": {},
   "source": [
    "# 3. What is a class in Python?"
   ]
  },
  {
   "cell_type": "markdown",
   "id": "9c520508",
   "metadata": {},
   "source": [
    "In Python, a class functions as a template defining the structure and behavior of the objects belonging to it. It serves as a blueprint, encapsulating both data (attributes) and functionality (methods) that instances of the class can embody. Classes enable the creation of modular and reusable code, adhering to principles such as abstraction and encapsulation. They facilitate the modeling of real-world entities, aiding in the design and management of complex systems. Classes play a foundational role in object-oriented programming, offering a way to organize and represent entities in a manner that enhances code flexibility and maintainability. In python, a class is defined using 'class' keyword. Following is the snipped used to define a class :-"
   ]
  },
  {
   "cell_type": "code",
   "execution_count": 1,
   "id": "6bb576f2",
   "metadata": {},
   "outputs": [],
   "source": [
    "class class_name:\n",
    "    pass"
   ]
  },
  {
   "cell_type": "markdown",
   "id": "0dc160ef",
   "metadata": {},
   "source": [
    "Here, a class is defined with having name as 'class_name'."
   ]
  },
  {
   "cell_type": "markdown",
   "id": "04142903",
   "metadata": {},
   "source": [
    "# 4.What are attributes and methods in a class?"
   ]
  },
  {
   "cell_type": "markdown",
   "id": "2eee2e7d",
   "metadata": {},
   "source": [
    "Attributes are the properties defined for an instance/object of a class where as methods are the functions defined for that class. Attributes of an instance/obect of an class are given using the '__init__' method in that class which takes 'self' as the primary keyword for the object creation and the methods are the other user-defined function in that same class for performing manual functions, they take 'self' as mandatory parameter to point the function for the current object and perform actions using the other parameters. For an example :-"
   ]
  },
  {
   "cell_type": "code",
   "execution_count": 17,
   "id": "25ac2b38",
   "metadata": {},
   "outputs": [],
   "source": [
    "class circle:\n",
    "    def __init__(self,rad):\n",
    "        self.radius=rad\n",
    "    def circle_area(self):\n",
    "        return 3.14* self.radius*self.radius\n"
   ]
  },
  {
   "cell_type": "code",
   "execution_count": 18,
   "id": "e03d2c8d",
   "metadata": {},
   "outputs": [
    {
     "name": "stdout",
     "output_type": "stream",
     "text": [
      "78.5\n"
     ]
    }
   ],
   "source": [
    "a=circle(5)\n",
    "area=a.circle_area()\n",
    "print(area)"
   ]
  },
  {
   "cell_type": "markdown",
   "id": "7c466561",
   "metadata": {},
   "source": [
    "Here, a class named 'circle' is created having '__init__' function for creating its object which takes 'rad' as parameter this function adds 'radius' attribute to the object created while on the other hand 'circle_area' is a method in the class 'circle' which returns the area of that circle object."
   ]
  },
  {
   "cell_type": "markdown",
   "id": "a9c331bd",
   "metadata": {},
   "source": [
    "## 5. What is the difference between class variables and instance variables in Python?"
   ]
  },
  {
   "cell_type": "markdown",
   "id": "5c894db4",
   "metadata": {},
   "source": [
    "The class variable are declared within the class and they are owned by the class itself and are shared by all the instances of that class while an instance variable is owned by the instance of that class which means every object/instance of that class have different instance variable.\n",
    "For Example -:"
   ]
  },
  {
   "cell_type": "code",
   "execution_count": 8,
   "id": "842c3d69",
   "metadata": {},
   "outputs": [],
   "source": [
    "class shark:\n",
    "    animal_type='fish'                 # Example for class variable\n",
    "    def __init__(self,color):          \n",
    "        self.color=color               # Example for instance variable\n",
    "    \n",
    "myAnimal = shark(\"blue\")"
   ]
  },
  {
   "cell_type": "code",
   "execution_count": 12,
   "id": "3f230b28",
   "metadata": {},
   "outputs": [
    {
     "name": "stdout",
     "output_type": "stream",
     "text": [
      "fish\n",
      "This is the class variable\n"
     ]
    }
   ],
   "source": [
    "print(myAnimal.animal_type) # CLASS VARIABLE\n",
    "print('This is the class variable')"
   ]
  },
  {
   "cell_type": "code",
   "execution_count": 13,
   "id": "fd78d896",
   "metadata": {},
   "outputs": [
    {
     "name": "stdout",
     "output_type": "stream",
     "text": [
      "blue\n",
      "This is an instance variable\n"
     ]
    }
   ],
   "source": [
    "print(myAnimal.color)\n",
    "print('This is an instance variable')"
   ]
  },
  {
   "cell_type": "markdown",
   "id": "c4101a07",
   "metadata": {},
   "source": [
    "# 6. What is the purpose of the self parameter in Python class methods?"
   ]
  },
  {
   "cell_type": "markdown",
   "id": "bf0d9501",
   "metadata": {},
   "source": [
    "The 'self' keyword in python is used to point the instance in a class's method for performing various operations on it. It represents the instance of that class in all the methods and functions in it.\n",
    "For Example :-"
   ]
  },
  {
   "cell_type": "code",
   "execution_count": 16,
   "id": "be6b8b4b",
   "metadata": {},
   "outputs": [],
   "source": [
    "class circle:\n",
    "    def __init__(self,rad):\n",
    "        self.radius=rad\n",
    "    def area(self):\n",
    "        return 3.14 * self.radius * self.radius\n",
    "circle1=circle(10)"
   ]
  },
  {
   "cell_type": "code",
   "execution_count": 17,
   "id": "62781b4e",
   "metadata": {},
   "outputs": [
    {
     "data": {
      "text/plain": [
       "314.0"
      ]
     },
     "execution_count": 17,
     "metadata": {},
     "output_type": "execute_result"
    }
   ],
   "source": [
    "circle1.area()"
   ]
  },
  {
   "cell_type": "markdown",
   "id": "b5f164b2",
   "metadata": {},
   "source": [
    "python calls area() method automatically for the radius of circle1 which is its attribute when called with 'self' parameter."
   ]
  },
  {
   "cell_type": "markdown",
   "id": "55a19ac8",
   "metadata": {},
   "source": [
    "# 8. For a ticket booking system, you have to design the \"Ticket\" class with OOP\n",
    "\n"
   ]
  },
  {
   "cell_type": "raw",
   "id": "03217d94",
   "metadata": {},
   "source": [
    "principles in mind. The “Ticket” class should have the following attributes:\n",
    "\n",
    "a. ticket_id: Represents the unique identifier for the ticket.\n",
    "b. event_name: Represents the name of the event.\n",
    "c. event_date: Represents the date of the event.\n",
    "d. venue: Represents the venue of the event.\n",
    "e. seat_number: Represents the seat number associated with the ticket.\n",
    "f. price: Represents the price of the ticket.\n",
    "g. is_reserved: Represents the reservation status of the ticket.\n",
    "\n",
    "\n",
    "The class also includes the following methods:\n",
    "a. reserve_ticket(self): Marks the ticket as reserved if it is not already reserved.\n",
    "b. cancel_reservation(self): Cancels the reservation of the ticket if it is already\n",
    "reserved.\n",
    "c. display_ticket_info(self): Displays the information about the ticket, including its\n",
    "attributes and reservation status."
   ]
  },
  {
   "cell_type": "code",
   "execution_count": 27,
   "id": "25847581",
   "metadata": {},
   "outputs": [],
   "source": [
    "\n",
    "class Ticket:\n",
    "    def __init__(self,ticket_id,event_name,event_date,venue,seat_number,price,is_reserved):\n",
    "        self.ticket_id=ticket_id\n",
    "        self.event_name=event_name\n",
    "        self.event_date=event_date\n",
    "        self.venue=venue\n",
    "        self.seat_number=seat_number\n",
    "        self.price=price\n",
    "        self.is_reserved=is_reserved\n",
    "        \n",
    "        \n",
    "    def reserve_ticket(self):\n",
    "        if self.is_reserved==False:\n",
    "            self.is_reserved = True\n",
    "            return 'Ticket has been successfully reserved.'\n",
    "        else:\n",
    "            return 'Ticket is already reserved.'\n",
    "        \n",
    "        \n",
    "    def cancel_reservation(self):\n",
    "        if self.is_reserved:\n",
    "            self.is_reserved=False\n",
    "            return 'Your reservation has been successfully cancelled.'\n",
    "        else:\n",
    "            return 'You dont have any reservation.'\n",
    "            \n",
    "        \n",
    "    \n",
    "    def display_ticket_info(self):\n",
    "        return f'Ticket ID: {self.ticket_id} Event Name: {self.event_name} Event date :{self.event_date} Venue: {self.venue} Seat Number: {self.seat_number} Price: {self.price} Reservation status: {self.is_reserved}'"
   ]
  },
  {
   "cell_type": "code",
   "execution_count": 28,
   "id": "36772d6e",
   "metadata": {
    "scrolled": true
   },
   "outputs": [],
   "source": [
    "ticket1=Ticket(12,'Departure','25/05/23','delhi','A 50',1200,False)"
   ]
  },
  {
   "cell_type": "code",
   "execution_count": 29,
   "id": "b76ea31d",
   "metadata": {},
   "outputs": [
    {
     "data": {
      "text/plain": [
       "'You dont have any reservation.'"
      ]
     },
     "execution_count": 29,
     "metadata": {},
     "output_type": "execute_result"
    }
   ],
   "source": [
    "ticket1.cancel_reservation()"
   ]
  },
  {
   "cell_type": "code",
   "execution_count": 30,
   "id": "dc904908",
   "metadata": {},
   "outputs": [
    {
     "data": {
      "text/plain": [
       "'Ticket has been successfully reserved.'"
      ]
     },
     "execution_count": 30,
     "metadata": {},
     "output_type": "execute_result"
    }
   ],
   "source": [
    "ticket1.reserve_ticket()"
   ]
  },
  {
   "cell_type": "code",
   "execution_count": 31,
   "id": "97dbf6a1",
   "metadata": {},
   "outputs": [
    {
     "data": {
      "text/plain": [
       "'Ticket is already reserved.'"
      ]
     },
     "execution_count": 31,
     "metadata": {},
     "output_type": "execute_result"
    }
   ],
   "source": [
    "ticket1.reserve_ticket()"
   ]
  },
  {
   "cell_type": "code",
   "execution_count": 32,
   "id": "d8066d02",
   "metadata": {},
   "outputs": [
    {
     "data": {
      "text/plain": [
       "'Ticket ID: 12 Event Name: Departure Event date :25/05/23 Venue: delhi Seat Number: A 50 Price: 1200 Reservation status: True'"
      ]
     },
     "execution_count": 32,
     "metadata": {},
     "output_type": "execute_result"
    }
   ],
   "source": [
    "ticket1.display_ticket_info()"
   ]
  },
  {
   "cell_type": "code",
   "execution_count": null,
   "id": "d8c0090f",
   "metadata": {},
   "outputs": [],
   "source": []
  }
 ],
 "metadata": {
  "kernelspec": {
   "display_name": "Python 3 (ipykernel)",
   "language": "python",
   "name": "python3"
  },
  "language_info": {
   "codemirror_mode": {
    "name": "ipython",
    "version": 3
   },
   "file_extension": ".py",
   "mimetype": "text/x-python",
   "name": "python",
   "nbconvert_exporter": "python",
   "pygments_lexer": "ipython3",
   "version": "3.11.5"
  }
 },
 "nbformat": 4,
 "nbformat_minor": 5
}
